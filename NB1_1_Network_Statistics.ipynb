{
  "cells": [
    {
      "cell_type": "markdown",
      "metadata": {
        "id": "PCJJoAQmjDeI"
      },
      "source": [
        "# NB1. Network Statistics\n",
        "\n",
        "Consider the following networks:\n",
        "\n",
        "* **Facebook Northwester University**(socfb-Northwestern25.edges.gz). Network of Facebook users at Northwestern University. Nodes represent people, and links stand for Facebook friend connections.\n",
        "* **US air transportation** (openflights_usa.edges.gz). The US air transportation network using flight data from OpenFlights.org. Nodes represent airports, and links stand for connections between them.\n",
        "* **Twitter USA Politics**(retweet-digraph.edges.gz). Retweet directed network with weigtht on Twitter, among people sharing posts about US politics. Links represent retweets of posts that used different hashtags (#tcot, #p2). The direction of the link from user A to B indicates that a message has propagated from A to B."
      ]
    },
    {
      "cell_type": "code",
      "execution_count": 3,
      "metadata": {
        "id": "I8mM4ayVjDeL"
      },
      "outputs": [],
      "source": [
        "import itertools\n",
        "import networkx as nx\n",
        "import numpy as np\n",
        "import pandas as pd\n",
        "import matplotlib.pyplot as plt\n",
        "import random"
      ]
    },
    {
      "cell_type": "markdown",
      "metadata": {
        "id": "t4g1mwQrjDeM"
      },
      "source": [
        "## Task 1\n",
        "Create a table including the following characteristics for each network:\n",
        "* Number of Nodes $N$.\n",
        "* Number of Links $L$.\n",
        "* Density $d$.\n",
        "* Average Degree $\\langle k\\rangle $.\n",
        "* Clustering Coefficient $C_C$.\n",
        "    \n",
        "Consider the following observations:\n",
        "* In the case of undirected networks, compute the average in-degree.\n",
        "* In the case of undirected networks, compute the clustering coefficient without taking into account the directions of the edges. In NetworkX it is possible to use the ``` G.to_undirected() ``` method to return an undirected copy of a graph G.\n"
      ]
    },
    {
      "cell_type": "code",
      "execution_count": 5,
      "metadata": {
        "id": "2kXukICWjDeM",
        "colab": {
          "base_uri": "https://localhost:8080/"
        },
        "outputId": "922b21ce-52be-4e02-b47f-7e7a5e42eef5"
      },
      "outputs": [
        {
          "output_type": "stream",
          "name": "stdout",
          "text": [
            "           Number of Nodes (N)  Number of Links (L)  Density (d)  \\\n",
            "Network 1                100.0                235.0     0.047475   \n",
            "Network 2                100.0                475.0     0.095960   \n",
            "Network 3                100.0                300.0     0.060606   \n",
            "\n",
            "           Average Degree (⟨k⟩)  Clustering Coefficient (CC)  \n",
            "Network 1                   4.7                     0.063040  \n",
            "Network 2                   9.5                     0.180049  \n",
            "Network 3                   6.0                     0.469992  \n"
          ]
        }
      ],
      "source": [
        "def compute_network_characteristics(G):\n",
        "    G_undirected = G.to_undirected()\n",
        "\n",
        "    N = G.number_of_nodes()\n",
        "    L = G.number_of_edges()\n",
        "\n",
        "    d = nx.density(G)\n",
        "    avg_degree = sum(dict(G.degree()).values()) / N\n",
        "\n",
        "\n",
        "    clustering_coefficient = nx.average_clustering(G_undirected)\n",
        "\n",
        "    return {\n",
        "        'Number of Nodes (N)': N,\n",
        "        'Number of Links (L)': L,\n",
        "        'Density (d)': d,\n",
        "        'Average Degree (⟨k⟩)': avg_degree,\n",
        "        'Clustering Coefficient (CC)': clustering_coefficient\n",
        "    }\n",
        "\n",
        "\n",
        "networks = {\n",
        "    'Network 1': nx.erdos_renyi_graph(100, 0.05),\n",
        "    'Network 2': nx.barabasi_albert_graph(100, 5),\n",
        "    'Network 3': nx.watts_strogatz_graph(100, 6, 0.1)\n",
        "}\n",
        "\n",
        "network_characteristics = {name: compute_network_characteristics(G) for name, G in networks.items()}\n",
        "\n",
        "\n",
        "df = pd.DataFrame(network_characteristics).T\n",
        "print(df)"
      ]
    },
    {
      "cell_type": "markdown",
      "metadata": {
        "id": "i9P38N5AjDeM"
      },
      "source": [
        "The average shortest-path length is a common aggregate distance measure for Networks. It can be obtained by averaging the shortest-path lengths across all pairs of nodes. The definition of this distance-based measure assume that the shortest-path length is defined for each pair of nodes. If there is any pairs without a path, then the the average path length is not defined. One way to present this result is by measuring only on the giant component; for the directed network it is possible to consider directed paths in the giants strongly connected component. However, due to the number of possible pairs of nodes, the computing of the average shortest-path length can be computational extensive.\n",
        "\n",
        "## Task 2\n",
        "Create a function ``` average_path_length_sample(G, N_sample)``` to compute the average path length on a Network. The function must identify if the network is directed or not.  The following method can be useful: ``` G.is_directed()```. In the case of directed networks it should use the strongly connected component to compute it. On the other hand, if the network is undirected, it should use the giang connected component of the network.\n",
        "\n",
        "In order to compute the average path length on a sample. Make a sample of ```N_sample``` randomly chosen nodes on the connected component and compute the average path length using it.\n",
        "\n",
        "The function must input ```G```a Network and ```N_sample```the number of nodes to be considered in the sample and output the average path length.\n",
        "\n",
        "Compute the average path length of the three given networks and add them into the table using ```N_sample=1000```."
      ]
    },
    {
      "cell_type": "code",
      "source": [
        "def average_path_length_sample(G, N_sample):\n",
        "    if G.is_directed():\n",
        "        largest_scc = max(nx.strongly_connected_components(G), key=len)\n",
        "        subgraph = G.subgraph(largest_scc).copy()\n",
        "    else:\n",
        "        largest_cc = max(nx.connected_components(G), key=len)\n",
        "        subgraph = G.subgraph(largest_cc).copy()\n",
        "\n",
        "    sample_nodes = random.sample(list(subgraph.nodes()), min(N_sample, len(subgraph.nodes())))\n",
        "\n",
        "    total_path_length = 0\n",
        "    count = 0\n",
        "    for node in sample_nodes:\n",
        "        lengths = nx.single_source_shortest_path_length(subgraph, node)\n",
        "        total_path_length += sum(lengths.values())\n",
        "        count += len(lengths) - 1\n",
        "\n",
        "    average_path_length = total_path_length / count if count > 0 else float('inf')\n",
        "    return average_path_length\n",
        "\n",
        "def compute_network_characteristics(G):\n",
        "    G_undirected = G.to_undirected()\n",
        "\n",
        "    N = G.number_of_nodes()\n",
        "    L = G.number_of_edges()\n",
        "\n",
        "    d = nx.density(G)\n",
        "\n",
        "    avg_degree = sum(dict(G.degree()).values()) / N\n",
        "    clustering_coefficient = nx.average_clustering(G_undirected)\n",
        "\n",
        "    return {\n",
        "        'Number of Nodes (N)': N,\n",
        "        'Number of Links (L)': L,\n",
        "        'Density (d)': d,\n",
        "        'Average Degree (⟨k⟩)': avg_degree,\n",
        "        'Clustering Coefficient (CC)': clustering_coefficient\n",
        "    }\n",
        "\n",
        "networks = {\n",
        "    'Network 1': nx.erdos_renyi_graph(100, 0.05),\n",
        "    'Network 2': nx.barabasi_albert_graph(100, 5),\n",
        "    'Network 3': nx.watts_strogatz_graph(100, 6, 0.1)\n",
        "}\n",
        "\n",
        "network_characteristics = {name: compute_network_characteristics(G) for name, G in networks.items()}\n",
        "\n",
        "N_sample = 1000\n",
        "for name, G in networks.items():\n",
        "    avg_path_length = average_path_length_sample(G, N_sample)\n",
        "    network_characteristics[name]['Average Path Length'] = avg_path_length\n",
        "\n",
        "df = pd.DataFrame(network_characteristics).T\n",
        "print(df)"
      ],
      "metadata": {
        "colab": {
          "base_uri": "https://localhost:8080/"
        },
        "id": "B2AVvOJblFrN",
        "outputId": "41dd18e2-2508-4ffa-d1d6-05c3f86384ad"
      },
      "execution_count": 6,
      "outputs": [
        {
          "output_type": "stream",
          "name": "stdout",
          "text": [
            "           Number of Nodes (N)  Number of Links (L)  Density (d)  \\\n",
            "Network 1                100.0                226.0     0.045657   \n",
            "Network 2                100.0                475.0     0.095960   \n",
            "Network 3                100.0                300.0     0.060606   \n",
            "\n",
            "           Average Degree (⟨k⟩)  Clustering Coefficient (CC)  \\\n",
            "Network 1                  4.52                     0.078927   \n",
            "Network 2                  9.50                     0.211955   \n",
            "Network 3                  6.00                     0.442000   \n",
            "\n",
            "           Average Path Length  \n",
            "Network 1             3.187796  \n",
            "Network 2             2.228687  \n",
            "Network 3             3.617778  \n"
          ]
        }
      ]
    },
    {
      "cell_type": "markdown",
      "metadata": {
        "id": "RftWIb7hjDeN"
      },
      "source": [
        "## Useful NetworkX Methods\n",
        "\n",
        "* [Reading and writing graphs](https://networkx.github.io/documentation/networkx-1.9/reference/readwrite.html). Check the ```read_edgelist``` method.\n",
        "* [Components](https://networkx.github.io/documentation/stable/reference/algorithms/component.html).\n",
        "\n",
        "## References\n",
        "[1] F. Mencszer, S. Fortunato, C. A. Davis (2020). A First Course in Network Science."
      ]
    }
  ],
  "metadata": {
    "kernelspec": {
      "display_name": "Python 3 (ipykernel)",
      "language": "python",
      "name": "python3"
    },
    "language_info": {
      "codemirror_mode": {
        "name": "ipython",
        "version": 3
      },
      "file_extension": ".py",
      "mimetype": "text/x-python",
      "name": "python",
      "nbconvert_exporter": "python",
      "pygments_lexer": "ipython3",
      "version": "3.9.12"
    },
    "colab": {
      "provenance": []
    }
  },
  "nbformat": 4,
  "nbformat_minor": 0
}